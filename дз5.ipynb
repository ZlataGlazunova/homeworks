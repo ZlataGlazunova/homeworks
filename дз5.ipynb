{
  "nbformat": 4,
  "nbformat_minor": 0,
  "metadata": {
    "colab": {
      "provenance": []
    },
    "kernelspec": {
      "name": "python3",
      "display_name": "Python 3"
    },
    "language_info": {
      "name": "python"
    }
  },
  "cells": [
    {
      "cell_type": "code",
      "source": [
        "n = int(input())\n",
        "l = []\n",
        "for i in range(n):\n",
        "  l.append(input())\n",
        "count = 0\n",
        "for i in range(n):\n",
        "  if l[i] in l[:i] or l[i] in l[i + 1:]:\n",
        "    count += 1\n",
        "print(count)"
      ],
      "metadata": {
        "id": "ddlga0PLhyJs"
      },
      "execution_count": null,
      "outputs": []
    },
    {
      "cell_type": "code",
      "source": [
        "s = input()\n",
        "l = list(s)\n",
        "l[0] = l[0].upper()\n",
        "n = 0\n",
        "for i in range(len(l)-1):\n",
        "  if l[i] == '.' or l[i] == '!' or l [i] == '?':\n",
        "    l[i+2] = l[i+2].upper()\n",
        "print(''.join(l))"
      ],
      "metadata": {
        "id": "al5j_QX8s_Jh"
      },
      "execution_count": null,
      "outputs": []
    },
    {
      "cell_type": "code",
      "source": [
        "set1 = set(input()).discard(' ')\n",
        "set2 = set(input()).discard(' ')\n",
        "if set1 == set2:\n",
        "  print('Yes')\n",
        "else:\n",
        "  print('No')"
      ],
      "metadata": {
        "id": "zynncvjvt_67"
      },
      "execution_count": null,
      "outputs": []
    },
    {
      "cell_type": "code",
      "source": [
        "alg = set(input().split())\n",
        "geo = set(input().split())\n",
        "trg = set(input().split())\n",
        "all = alg & geo & trg\n",
        "if all != set():\n",
        "  print(''.join(all))\n",
        "else:\n",
        "  print('Все три задачи никто не решил')"
      ],
      "metadata": {
        "id": "NdbF9bR_1wJl"
      },
      "execution_count": null,
      "outputs": []
    }
  ]
}