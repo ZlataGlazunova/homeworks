{
  "nbformat": 4,
  "nbformat_minor": 0,
  "metadata": {
    "colab": {
      "provenance": [],
      "authorship_tag": "ABX9TyNkmBUOHFAz6kLs8+uenjyE",
      "include_colab_link": true
    },
    "kernelspec": {
      "name": "python3",
      "display_name": "Python 3"
    },
    "language_info": {
      "name": "python"
    }
  },
  "cells": [
    {
      "cell_type": "markdown",
      "metadata": {
        "id": "view-in-github",
        "colab_type": "text"
      },
      "source": [
        "<a href=\"https://colab.research.google.com/github/ZlataGlazunova/homeworks/blob/main/%D0%94%D0%979.ipynb\" target=\"_parent\"><img src=\"https://colab.research.google.com/assets/colab-badge.svg\" alt=\"Open In Colab\"/></a>"
      ]
    },
    {
      "cell_type": "code",
      "execution_count": 7,
      "metadata": {
        "id": "_L5-YljArAog",
        "colab": {
          "base_uri": "https://localhost:8080/"
        },
        "outputId": "3fa85dd0-3d44-4f4c-b80d-9fec31df23b5"
      },
      "outputs": [
        {
          "output_type": "stream",
          "name": "stdout",
          "text": [
            "     Name   Surname  Mark\n",
            "0   Alice   Ivanova     4\n",
            "1  Nikita  Kuznecov     5\n",
            "2   Daria  Boricova     4\n",
            "    Name   Surname  Mark\n",
            "4  Sofia   Vlasova     5\n",
            "5   Vlad   Mironov     3\n",
            "6    Eva  Cidorova     4\n"
          ]
        }
      ],
      "source": [
        "import pandas as pd\n",
        "d = {'Name' : ['Alice', 'Nikita', 'Daria','Pavel', 'Sofia', 'Vlad', 'Eva'],\n",
        "     'Surname':['Ivanova', 'Kuznecov', 'Boricova', 'Petrov', 'Vlasova', 'Mironov', 'Cidorova'],\n",
        "     'Mark':[4, 5, 4, 5, 5, 3, 4]}\n",
        "df = pd.DataFrame(d)\n",
        "print(df.head(3))\n",
        "print(df.tail(3))\n",
        "df.to_csv('classBook')"
      ]
    }
  ]
}