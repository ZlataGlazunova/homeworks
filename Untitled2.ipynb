{
  "nbformat": 4,
  "nbformat_minor": 0,
  "metadata": {
    "colab": {
      "provenance": [],
      "authorship_tag": "ABX9TyNT2k+Elet6JgpK7NyQIOHN",
      "include_colab_link": true
    },
    "kernelspec": {
      "name": "python3",
      "display_name": "Python 3"
    },
    "language_info": {
      "name": "python"
    }
  },
  "cells": [
    {
      "cell_type": "markdown",
      "metadata": {
        "id": "view-in-github",
        "colab_type": "text"
      },
      "source": [
        "<a href=\"https://colab.research.google.com/github/ZlataGlazunova/homeworks/blob/main/Untitled2.ipynb\" target=\"_parent\"><img src=\"https://colab.research.google.com/assets/colab-badge.svg\" alt=\"Open In Colab\"/></a>"
      ]
    },
    {
      "cell_type": "code",
      "execution_count": 1,
      "metadata": {
        "id": "thF0KRwf8h9A"
      },
      "outputs": [],
      "source": [
        "import numpy as np"
      ]
    },
    {
      "cell_type": "code",
      "source": [
        "arr = np.random.randint(1, 10, size=100)\n",
        "a = (arr > 7).sum()\n",
        "print(a, '%')"
      ],
      "metadata": {
        "id": "_j5Jy4v2PyMG",
        "colab": {
          "base_uri": "https://localhost:8080/"
        },
        "outputId": "ec66f31e-aea8-4cb1-faf3-236a267c55ce"
      },
      "execution_count": 11,
      "outputs": [
        {
          "output_type": "stream",
          "name": "stdout",
          "text": [
            "23 %\n"
          ]
        }
      ]
    },
    {
      "cell_type": "code",
      "source": [
        "c = 0\n",
        "for i in range(1000):\n",
        "  arr = np.random.randint(1, 10, size=100)\n",
        "  a = (arr > 7).sum()\n",
        "  if a == 20:\n",
        "    c += 1\n",
        "print(c / 1000)"
      ],
      "metadata": {
        "id": "qGmOstoVUwkI",
        "colab": {
          "base_uri": "https://localhost:8080/"
        },
        "outputId": "2463e5b9-43a9-43d0-d238-f10b860154b7"
      },
      "execution_count": 15,
      "outputs": [
        {
          "output_type": "stream",
          "name": "stdout",
          "text": [
            "0.086\n"
          ]
        }
      ]
    },
    {
      "cell_type": "code",
      "source": [
        "a = np.array([np.arange(1, 11)] * 10)\n",
        "print(a)"
      ],
      "metadata": {
        "colab": {
          "base_uri": "https://localhost:8080/"
        },
        "id": "jagSKkjGSsqN",
        "outputId": "9328d68c-195c-4f33-c0f9-c92bed8e65ec"
      },
      "execution_count": 25,
      "outputs": [
        {
          "output_type": "execute_result",
          "data": {
            "text/plain": [
              "array([[ 1,  2,  3,  4,  5,  6,  7,  8,  9, 10],\n",
              "       [ 1,  2,  3,  4,  5,  6,  7,  8,  9, 10],\n",
              "       [ 1,  2,  3,  4,  5,  6,  7,  8,  9, 10],\n",
              "       [ 1,  2,  3,  4,  5,  6,  7,  8,  9, 10],\n",
              "       [ 1,  2,  3,  4,  5,  6,  7,  8,  9, 10],\n",
              "       [ 1,  2,  3,  4,  5,  6,  7,  8,  9, 10],\n",
              "       [ 1,  2,  3,  4,  5,  6,  7,  8,  9, 10],\n",
              "       [ 1,  2,  3,  4,  5,  6,  7,  8,  9, 10],\n",
              "       [ 1,  2,  3,  4,  5,  6,  7,  8,  9, 10],\n",
              "       [ 1,  2,  3,  4,  5,  6,  7,  8,  9, 10]])"
            ]
          },
          "metadata": {},
          "execution_count": 25
        }
      ]
    },
    {
      "cell_type": "code",
      "source": [
        "b = a.transpose()\n",
        "print(b[0].sum(), b[1].sum(), b[2].sum(), b[3].sum(), b[4].sum(), b[5].sum(), b[6].sum(), b[7].sum(), b[8].sum(), b[9].sum())"
      ],
      "metadata": {
        "colab": {
          "base_uri": "https://localhost:8080/"
        },
        "id": "U7pjItMJWH-x",
        "outputId": "d0365a3f-39d9-4bbb-8b5f-3531ad40e06e"
      },
      "execution_count": 35,
      "outputs": [
        {
          "output_type": "stream",
          "name": "stdout",
          "text": [
            "10 20 30 40 50 60 70 80 90 100\n"
          ]
        }
      ]
    }
  ]
}