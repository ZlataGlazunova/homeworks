{
  "nbformat": 4,
  "nbformat_minor": 0,
  "metadata": {
    "colab": {
      "provenance": []
    },
    "kernelspec": {
      "name": "python3",
      "display_name": "Python 3"
    },
    "language_info": {
      "name": "python"
    }
  },
  "cells": [
    {
      "cell_type": "code",
      "execution_count": null,
      "metadata": {
        "id": "thF0KRwf8h9A"
      },
      "outputs": [],
      "source": [
        "def Palindrom (s):\n",
        "  n = 0\n",
        "  for i in range (1, len(s)//2+1):\n",
        "    if s[i-1] != s[-i]:\n",
        "      n += 1\n",
        "  if n == 0:\n",
        "    return True\n",
        "  else:\n",
        "    return False"
      ]
    },
    {
      "cell_type": "code",
      "source": [
        "n = \"Злата\"\n",
        "f = \"Глазунова\"\n",
        "o = \"Константиновна\"\n",
        "a = 15\n",
        "def reg (surname, name, patronymic, age):\n",
        "  year = str(2023 - age)\n",
        "  all = (surname, name, patronymic, year, 'г.р зарегистрирован')\n",
        "  return ' '.join(all)\n",
        "print(reg(f, n, o, a))\n"
      ],
      "metadata": {
        "id": "_j5Jy4v2PyMG"
      },
      "execution_count": null,
      "outputs": []
    },
    {
      "cell_type": "code",
      "source": [
        "def maxim(a, b, c=0):\n",
        "  if a > b and a > c:\n",
        "    return a\n",
        "  if b > a and b > c:\n",
        "    return b\n",
        "  else:\n",
        "    return c"
      ],
      "metadata": {
        "id": "qGmOstoVUwkI"
      },
      "execution_count": null,
      "outputs": []
    }
  ]
}