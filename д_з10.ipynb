{
  "cells": [
    {
      "cell_type": "markdown",
      "metadata": {
        "id": "view-in-github",
        "colab_type": "text"
      },
      "source": [
        "<a href=\"https://colab.research.google.com/github/ZlataGlazunova/homeworks/blob/main/%D0%B4_%D0%B710.ipynb\" target=\"_parent\"><img src=\"https://colab.research.google.com/assets/colab-badge.svg\" alt=\"Open In Colab\"/></a>"
      ]
    },
    {
      "cell_type": "code",
      "execution_count": null,
      "metadata": {
        "id": "ppxL_WaH7IKR"
      },
      "outputs": [],
      "source": [
        "import pandas as pd\n",
        "df = pd.read_csv('/content/Customers.csv', sep=';')"
      ]
    },
    {
      "cell_type": "code",
      "source": [
        "print(df.query('Age > 30 and Income < 30000'))"
      ],
      "metadata": {
        "id": "dgJJABMPF-6k"
      },
      "execution_count": null,
      "outputs": []
    },
    {
      "cell_type": "code",
      "source": [
        "print(df[(df['Profession'] == \"Lawyer\")&(df['Work Experience']>5)])"
      ],
      "metadata": {
        "id": "Gnh7KEgKIhfq"
      },
      "execution_count": null,
      "outputs": []
    }
  ],
  "metadata": {
    "colab": {
      "provenance": [],
      "mount_file_id": "16SzNv-vYmo1ikwwoNXRxfUlDvBz2KwmF",
      "authorship_tag": "ABX9TyN8cT+dElIwvabmB8Va2Zm6",
      "include_colab_link": true
    },
    "kernelspec": {
      "display_name": "Python 3",
      "name": "python3"
    },
    "language_info": {
      "name": "python"
    }
  },
  "nbformat": 4,
  "nbformat_minor": 0
}