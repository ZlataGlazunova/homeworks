{
  "nbformat": 4,
  "nbformat_minor": 0,
  "metadata": {
    "colab": {
      "provenance": [],
      "authorship_tag": "ABX9TyNMFwhaeVwU1I1O+cq9NlaN",
      "include_colab_link": true
    },
    "kernelspec": {
      "name": "python3",
      "display_name": "Python 3"
    },
    "language_info": {
      "name": "python"
    }
  },
  "cells": [
    {
      "cell_type": "markdown",
      "metadata": {
        "id": "view-in-github",
        "colab_type": "text"
      },
      "source": [
        "<a href=\"https://colab.research.google.com/github/ZlataGlazunova/homeworks/blob/main/%D0%B4_%D0%B711.ipynb\" target=\"_parent\"><img src=\"https://colab.research.google.com/assets/colab-badge.svg\" alt=\"Open In Colab\"/></a>"
      ]
    },
    {
      "cell_type": "code",
      "execution_count": 31,
      "metadata": {
        "colab": {
          "base_uri": "https://localhost:8080/"
        },
        "id": "txJhRDsvdUaf",
        "outputId": "017ef15f-8e20-4c42-ffe6-9fbc03d62d2a"
      },
      "outputs": [
        {
          "output_type": "execute_result",
          "data": {
            "text/plain": [
              "CustomerID                 0\n",
              "Gender                     0\n",
              "Age                        0\n",
              "Income                     0\n",
              "Spending Score (1-100)     0\n",
              "Profession                35\n",
              "Work Experience            0\n",
              "Family Size                0\n",
              "dtype: int64"
            ]
          },
          "metadata": {},
          "execution_count": 31
        }
      ],
      "source": [
        "import pandas as pd\n",
        "df = pd.read_csv('/content/Customers.csv', sep=';')\n",
        "df.isnull().sum()"
      ]
    },
    {
      "cell_type": "code",
      "source": [
        "df.fillna(value={'Profession':'Not job'}, inplace=True)"
      ],
      "metadata": {
        "id": "Bh4tI-p6gC3w"
      },
      "execution_count": 32,
      "outputs": []
    },
    {
      "cell_type": "code",
      "source": [
        "df1 = df.groupby('Profession')['Income'].mean()\n",
        "print(df1)\n"
      ],
      "metadata": {
        "colab": {
          "base_uri": "https://localhost:8080/"
        },
        "id": "bKL5Sqe1hHqC",
        "outputId": "790328fb-c71a-4a48-ccd5-7daa2ae4a1da"
      },
      "execution_count": 39,
      "outputs": [
        {
          "output_type": "stream",
          "name": "stdout",
          "text": [
            "Profession\n",
            "Artist           108776.580065\n",
            "Doctor           111573.217391\n",
            "Engineer         111161.240223\n",
            "Entertainment    110650.333333\n",
            "Executive        113770.130719\n",
            "Healthcare       112574.041298\n",
            "Homemaker        108758.616667\n",
            "Lawyer           110995.838028\n",
            "Marketing        107994.211765\n",
            "Not job          117233.828571\n",
            "Name: Income, dtype: float64\n"
          ]
        }
      ]
    }
  ]
}